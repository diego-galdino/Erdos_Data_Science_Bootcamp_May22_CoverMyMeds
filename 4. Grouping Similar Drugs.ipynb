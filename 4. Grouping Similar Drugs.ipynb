{
 "cells": [
  {
   "cell_type": "markdown",
   "metadata": {
    "id": "b5a9E3-mLGEn"
   },
   "source": [
    "# Data Preparation"
   ]
  },
  {
   "cell_type": "code",
   "execution_count": 1,
   "metadata": {
    "colab": {
     "base_uri": "https://localhost:8080/"
    },
    "executionInfo": {
     "elapsed": 837,
     "status": "ok",
     "timestamp": 1654278239576,
     "user": {
      "displayName": "Diego Ribeiro de Oliveira Galdino",
      "userId": "09301364934909737437"
     },
     "user_tz": 240
    },
    "id": "8VnhUtFKnuXX",
    "outputId": "2fe8ae14-cd84-415a-fd1b-705c828fe672"
   },
   "outputs": [],
   "source": [
    "import pandas as pd\n",
    "import numpy as np\n",
    "import matplotlib.pyplot as plt\n",
    "import seaborn as sns\n",
    "sns.set_style(\"whitegrid\")\n",
    "\n",
    "pd.set_option('display.max_rows', None)\n",
    "\n",
    "# from google.colab import drive\n",
    "# drive.mount('/content/drive')"
   ]
  },
  {
   "cell_type": "code",
   "execution_count": 2,
   "metadata": {
    "executionInfo": {
     "elapsed": 65459,
     "status": "ok",
     "timestamp": 1654278305033,
     "user": {
      "displayName": "Diego Ribeiro de Oliveira Galdino",
      "userId": "09301364934909737437"
     },
     "user_tz": 240
    },
    "id": "_Bw1Dw2ZACIL"
   },
   "outputs": [],
   "source": [
    "# Import dataset\n",
    "# data = pd.read_csv('/content/drive/MyDrive/Erdos Bootcamp May 2022/Project/CoverMyMeds Project/data.csv')\n",
    "columns = ['bin_pcn_group', \n",
    "            'bin', \n",
    "            'pcn', \n",
    "            'group',\n",
    "            'drug_brand',\n",
    "            'drug_name',\n",
    "            'diag_letter',\n",
    "            'diag_num1',\n",
    "            'diag_num2']\n",
    "data = pd.read_csv('C:/Users/diego/Google Drive/Erdos Bootcamp May 2022/Project/CoverMyMeds Project/data.csv', usecols=columns)"
   ]
  },
  {
   "cell_type": "code",
   "execution_count": 3,
   "metadata": {
    "executionInfo": {
     "elapsed": 6953,
     "status": "ok",
     "timestamp": 1654278311977,
     "user": {
      "displayName": "Diego Ribeiro de Oliveira Galdino",
      "userId": "09301364934909737437"
     },
     "user_tz": 240
    },
    "id": "QEkfbxeYLGEr"
   },
   "outputs": [],
   "source": [
    "# Fill all NaN with NA. They are all located in PCN and GROUP columns. Keep NA as a different category.\n",
    "data = data.fillna('NA')"
   ]
  },
  {
   "cell_type": "code",
   "execution_count": 4,
   "metadata": {
    "executionInfo": {
     "elapsed": 9413,
     "status": "ok",
     "timestamp": 1654278321376,
     "user": {
      "displayName": "Diego Ribeiro de Oliveira Galdino",
      "userId": "09301364934909737437"
     },
     "user_tz": 240
    },
    "id": "mw3LP3JzLGEr"
   },
   "outputs": [],
   "source": [
    "# Set type of all features to save memory\n",
    "data = data.astype('category')"
   ]
  },
  {
   "cell_type": "code",
   "execution_count": 5,
   "metadata": {},
   "outputs": [],
   "source": [
    "similar_drugs = data.groupby(['diag_letter','diag_num1', 'diag_num2','drug_name'], observed=True).count().bin.sort_values(ascending=False).reset_index()\n",
    "similar_drugs.columns = ['diag_letter', 'diag_num1', 'diag_num2', 'drug_name', 'count']\n",
    "similar_drugs.to_csv('similar_drugs.csv', index=False)"
   ]
  },
  {
   "cell_type": "code",
   "execution_count": 6,
   "metadata": {},
   "outputs": [],
   "source": [
    "unique_plans = data.groupby(['bin', 'pcn', 'group'], observed=True).count().bin_pcn_group.reset_index()\n",
    "unique_plans.columns = ['bin', 'pcn', 'group', 'count']\n",
    "unique_plans.to_csv('unique_plans.csv', index=False)"
   ]
  },
  {
   "cell_type": "markdown",
   "metadata": {
    "id": "-603HQyBLGEv"
   },
   "source": [
    "# Functions"
   ]
  },
  {
   "cell_type": "code",
   "execution_count": 7,
   "metadata": {
    "executionInfo": {
     "elapsed": 383,
     "status": "ok",
     "timestamp": 1654278947755,
     "user": {
      "displayName": "Diego Ribeiro de Oliveira Galdino",
      "userId": "09301364934909737437"
     },
     "user_tz": 240
    },
    "id": "TR8Tdq9-OrUM"
   },
   "outputs": [],
   "source": [
    "def list_similar_drugs(similar_drugs, diag_l, diag_n1, diag_n2):\n",
    "    list_1 = similar_drugs[(similar_drugs.diag_letter == diag_l) & (similar_drugs.diag_num1 == diag_n1) & (similar_drugs.diag_num2 == diag_n2)]\n",
    "    list_2 = similar_drugs[(similar_drugs.diag_letter == diag_l) & (similar_drugs.diag_num1 == diag_n1)]\n",
    "    list_3 = similar_drugs[(similar_drugs.diag_letter == diag_l)]\n",
    "    return list_1, list_2, list_3"
   ]
  },
  {
   "cell_type": "markdown",
   "metadata": {
    "id": "IlIW3ZvHz_mJ"
   },
   "source": [
    "# Grouping"
   ]
  },
  {
   "cell_type": "code",
   "execution_count": 8,
   "metadata": {},
   "outputs": [
    {
     "name": "stdout",
     "output_type": "stream",
     "text": [
      "List of drugs for diagnosis I.68.27:\n",
      "  diag_letter diag_num1 diag_num2    drug_name   count\n",
      "0           I        68        27     prazinib  823443\n",
      "1           I        68        27         mule  362411\n",
      "2           I        68        27  hidizuzunib  318730\n",
      "\n",
      "List of drugs for diagnosis I.68:\n",
      "  diag_letter diag_num1 diag_num2    drug_name   count\n",
      "0           I        68        27     prazinib  823443\n",
      "1           I        68        27         mule  362411\n",
      "2           I        68        27  hidizuzunib  318730\n",
      "\n",
      "List of drugs for diagnosis I:\n",
      "    diag_letter diag_num1 diag_num2       drug_name   count\n",
      "0             I        68        27        prazinib  823443\n",
      "1             I        68        27            mule  362411\n",
      "2             I        68        27     hidizuzunib  318730\n",
      "65            I        59        87        oxasoted   54682\n",
      "72            I        59        87      keglusited   45409\n",
      "78            I        38        43         glulune   41612\n",
      "79            I        38        43      colifunene   41350\n",
      "84            I        38        43          sorine   39584\n",
      "137           I        59        87         tocilic   15696\n",
      "145           I        59        87       semufolic   14025\n",
      "152           I        38        43          mamate   12926\n",
      "153           I        38        43       glycogane   12870\n",
      "159           I        38        43          gosate   11153\n",
      "170           I        91        91  prefluflomycin    8935\n",
      "437           I        42        31      foxivelule      69\n",
      "454           I        42        31  choxestamenium      36\n",
      "465           I        42        31            mule      24\n"
     ]
    }
   ],
   "source": [
    "diag_l = 'I'\n",
    "diag_n1 = 68\n",
    "diag_n2 = 27\n",
    "list_1, list_2, list_3 = list_similar_drugs(similar_drugs, diag_l, diag_n1, diag_n2)\n",
    "\n",
    "print('List of drugs for diagnosis {}:\\n{}'.format('.'.join([diag_l, str(diag_n1), str(diag_n2)]), list_1))\n",
    "print('\\nList of drugs for diagnosis {}:\\n{}'.format('.'.join([diag_l, str(diag_n1)]), list_2))\n",
    "print('\\nList of drugs for diagnosis {}:\\n{}'.format('.'.join([diag_l]), list_3))"
   ]
  },
  {
   "cell_type": "code",
   "execution_count": null,
   "metadata": {},
   "outputs": [],
   "source": []
  }
 ],
 "metadata": {
  "colab": {
   "collapsed_sections": [],
   "name": "4. Clustering Model Building.ipynb",
   "provenance": []
  },
  "hide_input": false,
  "kernelspec": {
   "display_name": "Python 3 (ipykernel)",
   "language": "python",
   "name": "python3"
  },
  "language_info": {
   "codemirror_mode": {
    "name": "ipython",
    "version": 3
   },
   "file_extension": ".py",
   "mimetype": "text/x-python",
   "name": "python",
   "nbconvert_exporter": "python",
   "pygments_lexer": "ipython3",
   "version": "3.9.12"
  }
 },
 "nbformat": 4,
 "nbformat_minor": 1
}
