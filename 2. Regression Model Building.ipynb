{
 "cells": [
  {
   "cell_type": "markdown",
   "metadata": {},
   "source": [
    "# Data Preparation"
   ]
  },
  {
   "cell_type": "code",
   "execution_count": 1,
   "metadata": {
    "executionInfo": {
     "elapsed": 3,
     "status": "ok",
     "timestamp": 1654022487208,
     "user": {
      "displayName": "Diego Ribeiro de Oliveira Galdino",
      "userId": "09301364934909737437"
     },
     "user_tz": 240
    },
    "id": "8VnhUtFKnuXX"
   },
   "outputs": [],
   "source": [
    "import pandas as pd\n",
    "import numpy as np\n",
    "import matplotlib.pyplot as plt\n",
    "import seaborn as sns\n",
    "sns.set_style(\"whitegrid\")\n",
    "\n",
    "pd.set_option('display.max_rows', None)\n",
    "\n",
    "# from google.colab import drive\n",
    "# drive.mount('/content/drive')"
   ]
  },
  {
   "cell_type": "code",
   "execution_count": 2,
   "metadata": {
    "executionInfo": {
     "elapsed": 8112,
     "status": "ok",
     "timestamp": 1654022495320,
     "user": {
      "displayName": "Diego Ribeiro de Oliveira Galdino",
      "userId": "09301364934909737437"
     },
     "user_tz": 240
    },
    "id": "_Bw1Dw2ZACIL"
   },
   "outputs": [],
   "source": [
    "# Import dataset\n",
    "# data = pd.read_csv('/content/drive/MyDrive/Erdos Bootcamp May 2022/Project/CoverMyMeds Project/pharmacy_tx.csv')\n",
    "data = pd.read_csv('C:/Users/diego/Google Drive/Erdos Bootcamp May 2022/Project/CoverMyMeds Project/data.csv')"
   ]
  },
  {
   "cell_type": "code",
   "execution_count": 3,
   "metadata": {},
   "outputs": [],
   "source": [
    "# Fill all NaN with NA. They are all located in PCN and GROUP columns. Keep NA as a different category.\n",
    "data = data.fillna('NA')"
   ]
  },
  {
   "cell_type": "code",
   "execution_count": 4,
   "metadata": {},
   "outputs": [],
   "source": [
    "# Set type of all features to save memory\n",
    "data = data.astype({'tx_date':'datetime64[ns]', \n",
    "                    'month_name': 'category', \n",
    "                    'day_name': 'category', \n",
    "                    'pharmacy': 'category', \n",
    "                    'bin_pcn_group': 'category', \n",
    "                    'bin': 'category', \n",
    "                    'pcn': 'category', \n",
    "                    'group': 'category',\n",
    "                    'drug_brand': 'category',\n",
    "                    'drug_name': 'category',\n",
    "                    'diag_letter': 'category',\n",
    "                    'diag_num1': 'category',\n",
    "                    'diag_num2': 'category',\n",
    "                    'patient_pay': 'float32'\n",
    "                   })"
   ]
  },
  {
   "cell_type": "code",
   "execution_count": 5,
   "metadata": {},
   "outputs": [],
   "source": [
    "# Filter only approved claims\n",
    "data = data[data.rejected == False].reset_index(drop=True)"
   ]
  },
  {
   "cell_type": "markdown",
   "metadata": {
    "id": "IlIW3ZvHz_mJ"
   },
   "source": [
    "# Regression Model Building"
   ]
  },
  {
   "cell_type": "markdown",
   "metadata": {},
   "source": [
    "## Import Libraries"
   ]
  },
  {
   "cell_type": "code",
   "execution_count": 6,
   "metadata": {
    "colab": {
     "base_uri": "https://localhost:8080/"
    },
    "executionInfo": {
     "elapsed": 878,
     "status": "ok",
     "timestamp": 1654021322949,
     "user": {
      "displayName": "Diego Ribeiro de Oliveira Galdino",
      "userId": "09301364934909737437"
     },
     "user_tz": 240
    },
    "id": "Pogb9saW0C3h",
    "outputId": "3d66435a-bc54-4e3a-92e5-b029f77c6e64"
   },
   "outputs": [
    {
     "name": "stderr",
     "output_type": "stream",
     "text": [
      "Intel(R) Extension for Scikit-learn* enabled (https://github.com/intel/scikit-learn-intelex)\n"
     ]
    }
   ],
   "source": [
    "import warnings\n",
    "warnings.simplefilter(action='ignore')\n",
    "\n",
    "from sklearnex import patch_sklearn\n",
    "patch_sklearn()\n",
    "\n",
    "from sklearn.model_selection import train_test_split, cross_validate, GridSearchCV\n",
    "from sklearn.neural_network import MLPRegressor\n",
    "from sklearn.metrics import mean_squared_error, mean_absolute_percentage_error\n",
    "\n",
    "from lightgbm import LGBMRegressor\n",
    "\n",
    "from xgboost import XGBRegressor\n",
    "\n",
    "from joblib import dump, load\n",
    "\n",
    "import shap\n",
    "\n",
    "import time"
   ]
  },
  {
   "cell_type": "markdown",
   "metadata": {},
   "source": [
    "## Functions"
   ]
  },
  {
   "cell_type": "code",
   "execution_count": 7,
   "metadata": {},
   "outputs": [],
   "source": [
    "def train_test_split_feature_selection(data, dep_feature, test_size=0.2, random_state=614):\n",
    "    # Separate X and y from the dataframe that has all columns\n",
    "    X = data.drop(columns=[dep_feature])\n",
    "    y = data[dep_feature]\n",
    "    \n",
    "    # Split train and test datasets\n",
    "    X_train, X_test, y_train, y_test = train_test_split(X, y, test_size=test_size, random_state=random_state)\n",
    "    \n",
    "    return X_train, X_test, y_train, y_test"
   ]
  },
  {
   "cell_type": "code",
   "execution_count": 8,
   "metadata": {},
   "outputs": [],
   "source": [
    "def cross_validation_mean_scores(model, X, y, metrics, n_jobs=-1):\n",
    "    # Cross-validation\n",
    "    cv_dict = cross_validate(model, X, y, scoring=metrics, return_estimator=True, n_jobs=n_jobs)\n",
    "    \n",
    "    # Calculate the positive mean of the metrics\n",
    "    metrics_mean = list()\n",
    "    for metric in metrics:\n",
    "        if metrics.index(metric) == 0:\n",
    "            best_estimator = cv_dict['estimator'][np.nanargmax(cv_dict['test_' + metric])]\n",
    "        metrics_mean.append(np.nanmean(cv_dict['test_' + metric]))\n",
    "    \n",
    "    # Save the best estimator\n",
    "    save_path = ['./models/', str(best_estimator).split('(')[0], '_', str(metrics_mean[0])]\n",
    "    dump(best_estimator, ''.join(save_path + ['.joblib']))\n",
    "    \n",
    "    return best_estimator, metrics_mean"
   ]
  },
  {
   "cell_type": "code",
   "execution_count": 9,
   "metadata": {},
   "outputs": [],
   "source": [
    "def scatterplot(x, y, title, xlabel, ylabel, show=True):\n",
    "    plt.figure(figsize=(14,7))\n",
    "    sns.scatterplot(x=x, y=y)\n",
    "    plt.title(title)\n",
    "    plt.xlabel(xlabel, fontsize=12)\n",
    "    plt.ylabel(ylabel, fontsize=12)\n",
    "    if show:\n",
    "        plt.show()"
   ]
  },
  {
   "cell_type": "code",
   "execution_count": 10,
   "metadata": {},
   "outputs": [],
   "source": [
    "def plot_residuals(model, pred, resid):\n",
    "    title = 'Residual plot of {}'.format(model)\n",
    "    xlabel = 'y_predicted'\n",
    "    ylabel = 'y_observed - y_predicted'\n",
    "    scatterplot(pred, resid, title, xlabel, ylabel)"
   ]
  },
  {
   "cell_type": "code",
   "execution_count": 11,
   "metadata": {},
   "outputs": [],
   "source": [
    "def plot_pred_obs(y_test, model, pred):\n",
    "    title = 'Predicted vs Observed plot of {}'.format(model)\n",
    "    xlabel = 'observed'\n",
    "    ylabel = 'predicted'\n",
    "    scatterplot(y_test, pred, title, xlabel, ylabel, show=False)\n",
    "    plt.plot(y_test, y_test, 'b-')\n",
    "    plt.show()"
   ]
  },
  {
   "cell_type": "code",
   "execution_count": 12,
   "metadata": {},
   "outputs": [],
   "source": [
    "def shap_features_plot(model, X):\n",
    "    # Barplot of the shap values if available\n",
    "    try:\n",
    "        explainer = shap.explainers.Tree(model)\n",
    "        shap_values = explainer.shap_values(X)\n",
    "        shap.plots.bar(shap.Explanation(shap_values))\n",
    "    except:\n",
    "        pass"
   ]
  },
  {
   "cell_type": "code",
   "execution_count": 13,
   "metadata": {},
   "outputs": [],
   "source": [
    "def feature_importance(model):\n",
    "    # Print feature importance if available\n",
    "    try:\n",
    "        feature_importance = ['{}: {}'.format(f,i) for f,i in zip(model.feature_name_, model.feature_importances_)]\n",
    "        print('Feature Importance: ' + ', '.join(feature_importance))\n",
    "    except:\n",
    "        pass"
   ]
  },
  {
   "cell_type": "code",
   "execution_count": 14,
   "metadata": {},
   "outputs": [],
   "source": [
    "def model_baseline_analysis(y_train, y_test):\n",
    "    y_pred_tr = np.repeat(np.mean(y_train), y_train.shape[0])\n",
    "    y_pred_ts = np.repeat(np.mean(y_train), y_test.shape[0])\n",
    "    \n",
    "    # Calculate MSE and MAPE\n",
    "    train_mse = mean_squared_error(y_train, y_pred_tr)\n",
    "    train_mape = mean_absolute_percentage_error(y_train, y_pred_tr)\n",
    "    test_mse = mean_squared_error(y_test, y_pred_ts)\n",
    "    test_mape = mean_absolute_percentage_error(y_test, y_pred_ts)\n",
    "    \n",
    "    # Print MSE and MAPE\n",
    "    print('Train MSE {:.4f}, Train MAPE {:.4f}'.format(train_mse, train_mape))\n",
    "    print('Test MSE {:.4f}, Test MAPE {:.4f}'.format(test_mse, test_mape))"
   ]
  },
  {
   "cell_type": "code",
   "execution_count": 15,
   "metadata": {},
   "outputs": [],
   "source": [
    "def model_train(X, y, metrics, model):\n",
    "    # Call cross-validation and take the total processing time of it\n",
    "    t0 = time.time()\n",
    "    best_estimator, metrics_mean = cross_validation_mean_scores(model, X, y, metrics)\n",
    "    t1 = time.time() - t0\n",
    "    \n",
    "    # Print a summary of the metrics for the best fitted estimator\n",
    "    print('-> Model: {}'.format(best_estimator))\n",
    "    model_summary = ['Train {}: {:.4f}'.format(m.replace('neg_',''),-1*s) for m,s in zip(metrics, metrics_mean)] + ['Proc Time: {:.2f}'.format(t1)]\n",
    "    print(', '.join(model_summary))\n",
    "\n",
    "    return best_estimator"
   ]
  },
  {
   "cell_type": "code",
   "execution_count": 16,
   "metadata": {},
   "outputs": [],
   "source": [
    "def model_pred(model, X, y):\n",
    "    # Predict y\n",
    "    y_pred = model.predict(X)\n",
    "    \n",
    "    # Calculate MSE and MAPE\n",
    "    mse = mean_squared_error(y, y_pred)\n",
    "    mape = mean_absolute_percentage_error(y, y_pred)\n",
    "    \n",
    "    # Print MSE and MAPE\n",
    "    print('Test MSE {:.4f}, Test MAPE {:.4f}'.format(mse, mape))"
   ]
  },
  {
   "cell_type": "code",
   "execution_count": 33,
   "metadata": {
    "colab": {
     "base_uri": "https://localhost:8080/",
     "height": 635
    },
    "executionInfo": {
     "elapsed": 203767,
     "status": "ok",
     "timestamp": 1654021557447,
     "user": {
      "displayName": "Diego Ribeiro de Oliveira Galdino",
      "userId": "09301364934909737437"
     },
     "user_tz": 240
    },
    "id": "69vIdBBsVLmZ",
    "outputId": "51d48183-e4f6-4422-926b-2a1649fae36b",
    "scrolled": false
   },
   "outputs": [],
   "source": [
    "def model_analysis(X_train, X_test, y_train, y_test, models, metrics):\n",
    "    # Prepare X_train and X_test with one-hot and dummy encoding\n",
    "    X_train_hot, X_test_hot = pd.get_dummies(X_train), pd.get_dummies(X_test)\n",
    "    X_train_dum, X_test_dum = pd.get_dummies(X_train, drop_first=True), pd.get_dummies(X_test, drop_first=True)\n",
    "    \n",
    "    # Iterate through all models\n",
    "    for model in models:\n",
    "        # Model estimator and encoding\n",
    "        estimator = model['estimator']\n",
    "        if len(model['params']) != 0:\n",
    "            estimator.set_params(**model['params'])\n",
    "        encoding = model['encoding']\n",
    "        \n",
    "        # Perform cross-validation, feature importance, and model prediction according to encoding\n",
    "        if encoding == 'hot':\n",
    "            # Cross-validation with train dataset\n",
    "            best_estimator = model_train(X_train_hot, y_train, metrics, estimator)\n",
    "            \n",
    "            # Print MSE and MAPE for test dataset\n",
    "            model_pred(best_estimator, X_test_hot, y_test)\n",
    "            \n",
    "            # Print feature importance or shap values if available for the estimator\n",
    "            feature_importance(best_estimator)\n",
    "#             shap_features_plot(best_estimator, X_train_hot)\n",
    "        elif encoding == 'dummy':\n",
    "            # Cross-validation with train dataset\n",
    "            best_estimator = model_train(X_train_dum, y_train, metrics, estimator)\n",
    "            \n",
    "            # Print MSE and MAPE for test dataset\n",
    "            model_pred(best_estimator, X_test_dum, y_test)\n",
    "            \n",
    "            # Print feature importance or shap values if available for the estimator\n",
    "            feature_importance(best_estimator)\n",
    "#             shap_features_plot(best_estimator, X_train_dum)\n",
    "        else:\n",
    "            # Cross-validation with train dataset\n",
    "            best_estimator = model_train(X_train, y_train, metrics, estimator)\n",
    "            \n",
    "            # Print MSE and MAPE for test dataset\n",
    "            model_pred(best_estimator, X_test, y_test)\n",
    "            pred = best_estimator.predict(X_test)\n",
    "            resid = y_test - pred\n",
    "            plot_residuals(best_estimator, pred, resid)\n",
    "            plot_pred_obs(y_test, best_estimator, pred)\n",
    "            \n",
    "            # Print feature importance or shap values if available for the estimator\n",
    "            feature_importance(best_estimator)\n",
    "#             shap_features_plot(best_estimator, X_train)\n",
    "        \n",
    "        print('\\n')"
   ]
  },
  {
   "cell_type": "code",
   "execution_count": 18,
   "metadata": {},
   "outputs": [],
   "source": [
    "def model_tuning_gridsearch(X, y, model, params, scoring='neg_mean_squared_error', cv=3, n_jobs=-1):\n",
    "    # Perform GridSearchCV\n",
    "    t0 = time.time()\n",
    "    grid_search = GridSearchCV(model, params, scoring=scoring, cv=cv, n_jobs=n_jobs)\n",
    "    t1 = time.time() - t0\n",
    "    \n",
    "    # Select the estimator with the best parameters\n",
    "    grid_result = grid_search.fit(X, y)\n",
    "    best_estimator = grid_result.best_estimator_\n",
    "    best_params = grid_result.best_params_\n",
    "    \n",
    "    # Print a summary of the best fitted estimator\n",
    "    print('-> Model: {}'.format(best_estimator))\n",
    "    print('Train MSE: {:.4f}, GridSearchCV Proc Time: {:.2f}'.format(-1*grid_result.best_score_, t1))\n",
    "    \n",
    "    return best_estimator, best_params"
   ]
  },
  {
   "cell_type": "code",
   "execution_count": 19,
   "metadata": {},
   "outputs": [],
   "source": [
    "def model_tuning_analysis(X_train, X_test, y_train, y_test, models):\n",
    "    # Prepare X_train and X_test with one-hot and dummy encoding\n",
    "    X_train_hot, X_test_hot = pd.get_dummies(X_train), pd.get_dummies(X_test)\n",
    "    X_train_dum, X_test_dum = pd.get_dummies(X_train, drop_first=True), pd.get_dummies(X_test, drop_first=True)\n",
    "    \n",
    "    best_estimators = list()\n",
    "    # Iterate through all models\n",
    "    for model in models:\n",
    "        # Model name, estimator, encoding, and params\n",
    "        name = model['name']\n",
    "        estimator = model['estimator']\n",
    "        encoding = model['encoding']\n",
    "        params = model['params']\n",
    "        \n",
    "        # Perform GridSearchCV and model prediction according to encoding\n",
    "        if encoding == 'hot':\n",
    "            # Cross-validation with train dataset\n",
    "            best_estimator, best_params = model_tuning_gridsearch(X_train_hot, y_train, estimator, params)\n",
    "            \n",
    "            # Print MSE and MAPE for test dataset\n",
    "            model_pred(best_estimator, X_test_hot, y_test)\n",
    "        elif encoding == 'dummy':\n",
    "            # Cross-validation with train dataset\n",
    "            best_estimator, best_params = model_tuning_gridsearch(X_train_dum, y_train, estimator, params)\n",
    "            \n",
    "            # Print MSE and MAPE for test dataset\n",
    "            model_pred(best_estimator, X_test_dum, y_test)\n",
    "        else:\n",
    "            # Cross-validation with train dataset\n",
    "            best_estimator, best_params = model_tuning_gridsearch(X_train, y_train, estimator, params)\n",
    "            \n",
    "            # Print MSE and MAPE for test dataset\n",
    "            model_pred(best_estimator, X_test, y_test)\n",
    "        \n",
    "        # Save best_estimator of each model in a dict\n",
    "        best_estimators.append({'name':name, 'estimator':best_estimator, 'encoding':encoding, 'params':best_params})\n",
    "    \n",
    "    return best_estimators"
   ]
  },
  {
   "cell_type": "markdown",
   "metadata": {},
   "source": [
    "## Fit default estimators"
   ]
  },
  {
   "cell_type": "code",
   "execution_count": 20,
   "metadata": {},
   "outputs": [],
   "source": [
    "random_state = 614"
   ]
  },
  {
   "cell_type": "code",
   "execution_count": 21,
   "metadata": {},
   "outputs": [],
   "source": [
    "dep_feature = 'patient_pay'"
   ]
  },
  {
   "cell_type": "code",
   "execution_count": 22,
   "metadata": {},
   "outputs": [],
   "source": [
    "ind_features = ['month_name',\n",
    "                'day_name',\n",
    "                'pharmacy',\n",
    "                'bin_pcn_group', \n",
    "                'drug_brand', \n",
    "                'drug_name', \n",
    "                'diag_letter']"
   ]
  },
  {
   "cell_type": "code",
   "execution_count": 23,
   "metadata": {},
   "outputs": [],
   "source": [
    "metrics = ['neg_mean_squared_error','neg_mean_absolute_percentage_error']"
   ]
  },
  {
   "cell_type": "markdown",
   "metadata": {},
   "source": [
    "### Fitting with the <i>mean</i> of patient_pay values when all other features are equal"
   ]
  },
  {
   "cell_type": "code",
   "execution_count": 24,
   "metadata": {},
   "outputs": [],
   "source": [
    "default_estimators = [{'name':'LGBMRegressor', 'estimator':LGBMRegressor(random_state=random_state, importance_type='gain'), 'encoding':None, \n",
    "                       'params':{}\n",
    "                      }]"
   ]
  },
  {
   "cell_type": "code",
   "execution_count": 25,
   "metadata": {
    "scrolled": false
   },
   "outputs": [],
   "source": [
    "X_train, X_test, y_train, y_test = train_test_split_feature_selection(data, dep_feature)"
   ]
  },
  {
   "cell_type": "code",
   "execution_count": 26,
   "metadata": {},
   "outputs": [],
   "source": [
    "# Merge X_train and y_train\n",
    "data_train = X_train.reset_index(drop=True)\n",
    "data_train['patient_pay'] = y_train.reset_index(drop=True)\n",
    "\n",
    "# Group data_train by the mean of the patient_pay values\n",
    "data_train = data_train.groupby([i for i in data_train.columns if i != 'patient_pay'], observed=True).mean().reset_index()\n",
    "\n",
    "# Split train and test again\n",
    "X_train = data_train[ind_features].copy().reset_index(drop=True)\n",
    "X_test = X_test[ind_features].copy().reset_index(drop=True)\n",
    "y_train = data_train['patient_pay'].copy().reset_index(drop=True)\n",
    "y_test = y_test.reset_index(drop=True)"
   ]
  },
  {
   "cell_type": "code",
   "execution_count": 27,
   "metadata": {},
   "outputs": [
    {
     "name": "stdout",
     "output_type": "stream",
     "text": [
      "Train MSE 1744.4081, Train MAPE 1.2935\n",
      "Test MSE 1747.1178, Test MAPE 1.2934\n"
     ]
    }
   ],
   "source": [
    "# Baseline model with the average of Y\n",
    "model_baseline_analysis(y_train, y_test)"
   ]
  },
  {
   "cell_type": "code",
   "execution_count": 28,
   "metadata": {},
   "outputs": [
    {
     "name": "stdout",
     "output_type": "stream",
     "text": [
      "-> Model: LGBMRegressor(importance_type='gain', random_state=614)\n",
      "Train mean_squared_error: 15.4794, Train mean_absolute_percentage_error: 0.1291, Proc Time: 59.97\n",
      "Test MSE 14.1554, Test MAPE 0.1312\n",
      "Feature Importance: month_name: 37472462.70703125, day_name: 0.0, pharmacy: 2219197.59765625, bin_pcn_group: 11295166943.702148, drug_brand: 309269714.20214844, drug_name: 55198277853.40918, diag_letter: 5550105.001953125\n",
      "\n",
      "\n"
     ]
    }
   ],
   "source": [
    "# Models in default_estimators\n",
    "model_analysis(X_train, X_test, y_train, y_test, default_estimators, metrics)"
   ]
  },
  {
   "cell_type": "markdown",
   "metadata": {},
   "source": [
    "## Model Tuning"
   ]
  },
  {
   "cell_type": "code",
   "execution_count": 29,
   "metadata": {},
   "outputs": [],
   "source": [
    "# List of dictionaires with models. Keys to be included: name, estimator, encoding, and params.\n",
    "reg_models = [{'name':'LGBMRegressor', 'estimator':LGBMRegressor(random_state=random_state), 'encoding':None, \n",
    "               'params':{'boosting_type':['gbdt', 'dart', 'goss', 'rf'],\n",
    "                         'n_estimators':[600, 900],\n",
    "                         'learning_rate':[0.5, 0.1, 0.01],\n",
    "                         'num_leaves':[124, 248],\n",
    "                         'max_depth':[6]\n",
    "                        }\n",
    "              }]"
   ]
  },
  {
   "cell_type": "markdown",
   "metadata": {},
   "source": [
    "### Tuning with the <i>mean</i> of patient_pay values when all other features are equal"
   ]
  },
  {
   "cell_type": "code",
   "execution_count": 30,
   "metadata": {
    "id": "JsU2wjRlQIGB",
    "outputId": "f91ba318-fa06-4255-e5e5-d4ac1eae8295"
   },
   "outputs": [],
   "source": [
    "X_train, X_test, y_train, y_test = train_test_split_feature_selection(data.sample(1000000, random_state=random_state), dep_feature)"
   ]
  },
  {
   "cell_type": "code",
   "execution_count": 31,
   "metadata": {},
   "outputs": [],
   "source": [
    "data_train = X_train.reset_index(drop=True)\n",
    "data_train['patient_pay'] = y_train.reset_index(drop=True)\n",
    "data_train = data_train.groupby([i for i in data_train.columns if i != 'patient_pay'], observed=True).mean().reset_index()\n",
    "X_train = data_train[ind_features].copy().reset_index(drop=True)\n",
    "X_test = X_test[ind_features].copy().reset_index(drop=True)\n",
    "y_train = data_train['patient_pay'].copy().reset_index(drop=True)\n",
    "y_test = y_test.reset_index(drop=True)"
   ]
  },
  {
   "cell_type": "code",
   "execution_count": 32,
   "metadata": {},
   "outputs": [
    {
     "name": "stdout",
     "output_type": "stream",
     "text": [
      "-> Model: LGBMRegressor(importance_type='gain', learning_rate=0.5, max_depth=6,\n",
      "              n_estimators=900, num_leaves=248, random_state=614)\n",
      "Train MSE: 10.2777, GridSearchCV Proc Time: 0.00\n",
      "Test MSE 6.4512, Test MAPE 0.0391\n"
     ]
    }
   ],
   "source": [
    "best_estimators = model_tuning_analysis(X_train, X_test, y_train, y_test, reg_models)"
   ]
  },
  {
   "cell_type": "code",
   "execution_count": 33,
   "metadata": {},
   "outputs": [],
   "source": [
    "# Tuning results:\n",
    "# -> Model: LGBMRegressor(importance_type='gain', learning_rate=0.5, max_depth=6,\n",
    "#               n_estimators=900, num_leaves=248, random_state=614)\n",
    "# Train MSE: 10.2777, GridSearchCV Proc Time: 0.00\n",
    "# Test MSE 6.4512, Test MAPE 0.0391"
   ]
  },
  {
   "cell_type": "markdown",
   "metadata": {},
   "source": [
    "## Fit best estimators"
   ]
  },
  {
   "cell_type": "markdown",
   "metadata": {},
   "source": [
    "### Full dataset and keeping all features"
   ]
  },
  {
   "cell_type": "markdown",
   "metadata": {},
   "source": [
    "#### Fitting with the <i>mean</i> of patient_pay values when all other features are equal"
   ]
  },
  {
   "cell_type": "code",
   "execution_count": 34,
   "metadata": {
    "scrolled": false
   },
   "outputs": [],
   "source": [
    "X_train, X_test, y_train, y_test = train_test_split_feature_selection(data, dep_feature)"
   ]
  },
  {
   "cell_type": "code",
   "execution_count": 35,
   "metadata": {},
   "outputs": [],
   "source": [
    "# Merge X_train and y_train\n",
    "data_train = X_train.reset_index(drop=True)\n",
    "data_train['patient_pay'] = y_train.reset_index(drop=True)\n",
    "\n",
    "# Group data_train by the mean of the patient_pay values\n",
    "data_train = data_train.groupby([i for i in data_train.columns if i != 'patient_pay'], observed=True).mean().reset_index()\n",
    "\n",
    "# Split train and test again\n",
    "X_train = data_train[ind_features].copy().reset_index(drop=True)\n",
    "X_test = X_test[ind_features].copy().reset_index(drop=True)\n",
    "y_train = data_train['patient_pay'].copy().reset_index(drop=True)\n",
    "y_test = y_test.reset_index(drop=True)"
   ]
  },
  {
   "cell_type": "code",
   "execution_count": 36,
   "metadata": {},
   "outputs": [
    {
     "name": "stdout",
     "output_type": "stream",
     "text": [
      "-> Model: LGBMRegressor(importance_type='gain', learning_rate=0.5, max_depth=6,\n",
      "              n_estimators=900, num_leaves=248, random_state=614)\n",
      "Train mean_squared_error: 6.7890, Train mean_absolute_percentage_error: 0.0236, Proc Time: 820.67\n",
      "Test MSE 5.0372, Test MAPE 0.0270\n",
      "Feature Importance: month_name: 11216876.981683135, day_name: 109013.03203010559, pharmacy: 5128540.600383043, bin_pcn_group: 2923163260.9112964, drug_brand: 91699584.02563359, drug_name: 13983453726.054316, diag_letter: 3242401.4873667955\n",
      "\n",
      "\n"
     ]
    }
   ],
   "source": [
    "model_analysis(X_train, X_test, y_train, y_test, best_estimators, metrics)"
   ]
  },
  {
   "cell_type": "markdown",
   "metadata": {},
   "source": [
    "#### Fitting with the <i>max</i> of patient_pay values when all other features are equal"
   ]
  },
  {
   "cell_type": "code",
   "execution_count": 37,
   "metadata": {
    "scrolled": false
   },
   "outputs": [],
   "source": [
    "X_train, X_test, y_train, y_test = train_test_split_feature_selection(data, dep_feature)"
   ]
  },
  {
   "cell_type": "code",
   "execution_count": 38,
   "metadata": {},
   "outputs": [],
   "source": [
    "# Merge X_train and y_train\n",
    "data_train = X_train.reset_index(drop=True)\n",
    "data_train['patient_pay'] = y_train.reset_index(drop=True)\n",
    "\n",
    "# Group data_train by the max of the patient_pay values\n",
    "data_train = data_train.groupby([i for i in data_train.columns if i != 'patient_pay'], observed=True).max().reset_index()\n",
    "\n",
    "# Split train and test again\n",
    "X_train = data_train[ind_features].copy().reset_index(drop=True)\n",
    "X_test = X_test[ind_features].copy().reset_index(drop=True)\n",
    "y_train = data_train['patient_pay'].copy().reset_index(drop=True)\n",
    "y_test = y_test.reset_index(drop=True)"
   ]
  },
  {
   "cell_type": "code",
   "execution_count": 39,
   "metadata": {},
   "outputs": [
    {
     "name": "stdout",
     "output_type": "stream",
     "text": [
      "-> Model: LGBMRegressor(importance_type='gain', learning_rate=0.5, max_depth=6,\n",
      "              n_estimators=900, num_leaves=248, random_state=614)\n",
      "Train mean_squared_error: 7.1812, Train mean_absolute_percentage_error: 0.0251, Proc Time: 832.86\n",
      "Test MSE 5.0471, Test MAPE 0.0260\n",
      "Feature Importance: month_name: 11147628.585502386, day_name: 106128.94278049469, pharmacy: 5445262.156420231, bin_pcn_group: 2919472837.0451655, drug_brand: 92949038.7929199, drug_name: 13993069676.837555, diag_letter: 2915852.3006510735\n",
      "\n",
      "\n"
     ]
    }
   ],
   "source": [
    "model_analysis(X_train, X_test, y_train, y_test, best_estimators, metrics)"
   ]
  },
  {
   "cell_type": "markdown",
   "metadata": {},
   "source": [
    "### Full dataset and keeping only plan-, drug-, and diagnosis-related features"
   ]
  },
  {
   "cell_type": "markdown",
   "metadata": {},
   "source": [
    "#### Fitting with the <i>mean</i> of patient_pay values when all other features are equal"
   ]
  },
  {
   "cell_type": "code",
   "execution_count": 40,
   "metadata": {},
   "outputs": [],
   "source": [
    "ind_features = ['bin_pcn_group', \n",
    "                'drug_brand', \n",
    "                'drug_name', \n",
    "                'diag_letter']"
   ]
  },
  {
   "cell_type": "code",
   "execution_count": 41,
   "metadata": {
    "scrolled": false
   },
   "outputs": [],
   "source": [
    "X_train, X_test, y_train, y_test = train_test_split_feature_selection(data, dep_feature)"
   ]
  },
  {
   "cell_type": "code",
   "execution_count": 42,
   "metadata": {},
   "outputs": [],
   "source": [
    "# Merge X_train and y_train\n",
    "data_train = X_train.reset_index(drop=True)\n",
    "data_train['patient_pay'] = y_train.reset_index(drop=True)\n",
    "\n",
    "# Group data_train by the mean of the patient_pay values\n",
    "data_train = data_train.groupby([i for i in data_train.columns if i != 'patient_pay'], observed=True).mean().reset_index()\n",
    "\n",
    "# Split train and test again\n",
    "X_train = data_train[ind_features].copy().reset_index(drop=True)\n",
    "X_test = X_test[ind_features].copy().reset_index(drop=True)\n",
    "y_train = data_train['patient_pay'].copy().reset_index(drop=True)\n",
    "y_test = y_test.reset_index(drop=True)"
   ]
  },
  {
   "cell_type": "code",
   "execution_count": 43,
   "metadata": {},
   "outputs": [
    {
     "name": "stdout",
     "output_type": "stream",
     "text": [
      "-> Model: LGBMRegressor(importance_type='gain', learning_rate=0.5, max_depth=6,\n",
      "              n_estimators=900, num_leaves=248, random_state=614)\n",
      "Train mean_squared_error: 6.9942, Train mean_absolute_percentage_error: 0.0175, Proc Time: 772.40\n",
      "Test MSE 6.7799, Test MAPE 0.0188\n",
      "Feature Importance: bin_pcn_group: 2917363788.338394, drug_brand: 93010774.75085524, drug_name: 13977451072.781483, diag_letter: 2751885.2884553415\n",
      "\n",
      "\n"
     ]
    }
   ],
   "source": [
    "model_analysis(X_train, X_test, y_train, y_test, best_estimators, metrics)"
   ]
  },
  {
   "cell_type": "markdown",
   "metadata": {},
   "source": [
    "#### Fitting with the <i>max</i> of patient_pay values when all other features are equal"
   ]
  },
  {
   "cell_type": "code",
   "execution_count": 24,
   "metadata": {},
   "outputs": [],
   "source": [
    "ind_features = ['bin_pcn_group', \n",
    "                'drug_brand', \n",
    "                'drug_name', \n",
    "                'diag_letter']"
   ]
  },
  {
   "cell_type": "code",
   "execution_count": 25,
   "metadata": {},
   "outputs": [],
   "source": [
    "best_estimators = [{'name':'LGBMRegressor', 'estimator':LGBMRegressor(importance_type='gain', learning_rate=0.5, max_depth=6,\n",
    "              n_estimators=900, num_leaves=248, random_state=614), 'encoding':None, \n",
    "                       'params':{}\n",
    "                      }]"
   ]
  },
  {
   "cell_type": "code",
   "execution_count": 30,
   "metadata": {
    "scrolled": false
   },
   "outputs": [],
   "source": [
    "X_train, X_test, y_train, y_test = train_test_split_feature_selection(data, dep_feature)"
   ]
  },
  {
   "cell_type": "code",
   "execution_count": 31,
   "metadata": {},
   "outputs": [],
   "source": [
    "# Merge X_train and y_train\n",
    "data_train = X_train.reset_index(drop=True)\n",
    "data_train['patient_pay'] = y_train.reset_index(drop=True)\n",
    "\n",
    "# Group data_train by the mean of the patient_pay values\n",
    "data_train = data_train.groupby([i for i in data_train.columns if i != 'patient_pay'], observed=True).max().reset_index()\n",
    "\n",
    "# Split train and test again\n",
    "X_train = data_train[ind_features].copy().reset_index(drop=True)\n",
    "X_test = X_test[ind_features].copy().reset_index(drop=True)\n",
    "y_train = data_train['patient_pay'].copy().reset_index(drop=True)\n",
    "y_test = y_test.reset_index(drop=True)"
   ]
  },
  {
   "cell_type": "code",
   "execution_count": 34,
   "metadata": {
    "scrolled": false
   },
   "outputs": [
    {
     "name": "stdout",
     "output_type": "stream",
     "text": [
      "-> Model: LGBMRegressor(importance_type='gain', learning_rate=0.5, max_depth=6,\n",
      "              n_estimators=900, num_leaves=248, random_state=614)\n",
      "Train mean_squared_error: 7.6852, Train mean_absolute_percentage_error: 0.0198, Proc Time: 54.50\n",
      "Test MSE 7.0398, Test MAPE 0.0208\n"
     ]
    },
    {
     "data": {
      "image/png": "[encoded data removed]",
      "text/plain": [
       "<Figure size 1008x504 with 1 Axes>"
      ]
     },
     "metadata": {},
     "output_type": "display_data"
    },
    {
     "data": {
      "image/png": "[encoded data removed]",
      "text/plain": [
       "<Figure size 1008x504 with 1 Axes>"
      ]
     },
     "metadata": {},
     "output_type": "display_data"
    },
    {
     "name": "stdout",
     "output_type": "stream",
     "text": [
      "Feature Importance: bin_pcn_group: 244931252.05679387, drug_brand: 8797888.839047674, drug_name: 1219801858.0535386, diag_letter: 376269.09051067015\n",
      "\n",
      "\n"
     ]
    }
   ],
   "source": [
    "model_analysis(X_train, X_test, y_train, y_test, best_estimators, metrics)"
   ]
  }
 ],
 "metadata": {
  "colab": {
   "collapsed_sections": [],
   "name": "1. Erdos Bootcamp May 2022 - CoverMyMeds Project.ipynb",
   "provenance": []
  },
  "hide_input": false,
  "kernelspec": {
   "display_name": "Python 3 (ipykernel)",
   "language": "python",
   "name": "python3"
  },
  "language_info": {
   "codemirror_mode": {
    "name": "ipython",
    "version": 3
   },
   "file_extension": ".py",
   "mimetype": "text/x-python",
   "name": "python",
   "nbconvert_exporter": "python",
   "pygments_lexer": "ipython3",
   "version": "3.9.12"
  }
 },
 "nbformat": 4,
 "nbformat_minor": 1
}
